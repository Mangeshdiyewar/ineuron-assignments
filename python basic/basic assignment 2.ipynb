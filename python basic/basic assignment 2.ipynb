{
 "cells": [
  {
   "cell_type": "raw",
   "id": "56ee93cd",
   "metadata": {},
   "source": [
    "# ASSIGNMENT 2"
   ]
  },
  {
   "cell_type": "code",
   "execution_count": null,
   "id": "b1547c51",
   "metadata": {},
   "outputs": [],
   "source": [
    "# 1.What are the two values of the Boolean data type? How do you write them?\n",
    "\n",
    "Ans= There are two type of boolean data type True & False , first letter should always be capital in order to write them\n",
    "     "
   ]
  },
  {
   "cell_type": "code",
   "execution_count": null,
   "id": "dc1ad5d8",
   "metadata": {},
   "outputs": [],
   "source": [
    "2. What are the three different types of Boolean operators?\n",
    "\n",
    "Ans= Three different types of boolean operaters are and , or & not \n"
   ]
  },
  {
   "cell_type": "code",
   "execution_count": 4,
   "id": "bc2c0d50",
   "metadata": {},
   "outputs": [
    {
     "name": "stdout",
     "output_type": "stream",
     "text": [
      "True\n",
      "True\n",
      "True\n"
     ]
    }
   ],
   "source": [
    "a=100\n",
    "b=500\n",
    "\n",
    "print(a<500 and b<1000)  #example of bollean and operator\n",
    "\n",
    "print( a<500 or b>500) #example of a bollean or operator\n",
    "\n",
    "print(not(a>100)) # example of bollean not operator"
   ]
  },
  {
   "cell_type": "code",
   "execution_count": null,
   "id": "9747b692",
   "metadata": {},
   "outputs": [],
   "source": [
    "3. Make a list of each Boolean operator & it's truth tables (i.e. every possible combination of Boolean\n",
    "values for the operator and what it evaluate ).\n",
    "\n",
    "Ans = Truth table for the following operator are as follows: \n",
    "\n",
    " Truth table for and operator\n",
    " \n",
    "    True and True == True\n",
    "    True and False == False\n",
    "    False and True == False\n",
    "    False and False == False\n",
    "    \n",
    " Truth table for or operator\n",
    "    \n",
    "    True or True == True\n",
    "    True or False == True\n",
    "    False or True == True\n",
    "    False or False == False\n",
    "    \n",
    " Truth table for not operator\n",
    "\n",
    "    True not == False , False not == True "
   ]
  },
  {
   "cell_type": "code",
   "execution_count": null,
   "id": "09fa1baf",
   "metadata": {},
   "outputs": [],
   "source": [
    "4. What are the values of the following expressions?\n",
    "(5 > 4) and (3 == 5)\n",
    "not (5 > 4)\n",
    "(5 > 4) or (3 == 5)\n",
    "not ((5 > 4) or (3 == 5))\n",
    "(True and True) and (True == False)\n",
    "(not False) or (not True)"
   ]
  },
  {
   "cell_type": "code",
   "execution_count": 5,
   "id": "be668020",
   "metadata": {},
   "outputs": [
    {
     "name": "stdout",
     "output_type": "stream",
     "text": [
      "False\n",
      "False\n",
      "True\n",
      "False\n",
      "False\n",
      "True\n"
     ]
    }
   ],
   "source": [
    "# Answers\n",
    "print((5 > 4) and (3 == 5))\n",
    "print(not (5 > 4))\n",
    "print((5 > 4) or (3 == 5))\n",
    "print(not ((5 > 4) or (3 == 5)))\n",
    "print((True and True) and (True == False))\n",
    "print((not False) or (not True))"
   ]
  },
  {
   "cell_type": "code",
   "execution_count": null,
   "id": "e649e076",
   "metadata": {},
   "outputs": [],
   "source": [
    "5. What are the six comparison operators?\n",
    "Answer:The six comparision operator iin python are:\n",
    "    ==,<=,=>,!=,<,>"
   ]
  },
  {
   "cell_type": "code",
   "execution_count": null,
   "id": "00790161",
   "metadata": {},
   "outputs": [],
   "source": [
    "6. How do you tell the difference between the equal to and assignment operators?Describe a\n",
    "condition and when you would use one.\n",
    "\n",
    "Answer: == operator is used when we have to compare two values & = operator is used to assign a particular value to a variable and store it.   "
   ]
  },
  {
   "cell_type": "code",
   "execution_count": null,
   "id": "571fdf02",
   "metadata": {},
   "outputs": [],
   "source": [
    "b= 10 # this is an assignment operation where we are assigning the value of b is 10\n",
    " if b==20  # here we are comparing the value of b which is 10 with 20"
   ]
  },
  {
   "cell_type": "code",
   "execution_count": null,
   "id": "f6816758",
   "metadata": {},
   "outputs": [],
   "source": [
    "7. Identify the three blocks in this code:\n",
    "spam = 0\n",
    "if spam == 10:\n",
    "print(\"eggs\")\n",
    "if spam > 5:\n",
    "print(\"bacon\")\n",
    "else:\n",
    "print(\"ham\")\n",
    "print(\"spam\")\n",
    "print(\"spam\")\n",
    "\n",
    "Answer:after arranging it with the proper indentation we find 3 blocks  2 if block and one else block."
   ]
  },
  {
   "cell_type": "code",
   "execution_count": 8,
   "id": "d351cdaf",
   "metadata": {},
   "outputs": [
    {
     "name": "stdout",
     "output_type": "stream",
     "text": [
      "ham\n",
      "spam\n",
      "spam\n"
     ]
    }
   ],
   "source": [
    "spam = 0\n",
    "\n",
    "if spam == 10:\n",
    "    print(\"eggs\")\n",
    "    \n",
    "if spam > 5:\n",
    "     print(\"bacon\")\n",
    "        \n",
    "else:\n",
    "    print(\"ham\")\n",
    "    print(\"spam\")\n",
    "    print(\"spam\")"
   ]
  },
  {
   "cell_type": "code",
   "execution_count": null,
   "id": "dae745de",
   "metadata": {},
   "outputs": [],
   "source": [
    "8. Write code that prints Hello if 1 is stored in spam, prints Howdy if 2 is stored in spam, and prints\n",
    "Greetings! if anything else is stored in spam."
   ]
  },
  {
   "cell_type": "code",
   "execution_count": 11,
   "id": "af57d7dd",
   "metadata": {},
   "outputs": [],
   "source": [
    "#Answer\n",
    "def code(spam):\n",
    "    if spam== 1:\n",
    "        print(\"hello\")\n",
    "    elif spam ==2 :\n",
    "        print(\"Howdy\")\n",
    "    else :\n",
    "        print(\" Greetings\")"
   ]
  },
  {
   "cell_type": "code",
   "execution_count": 13,
   "id": "e18af6ff",
   "metadata": {},
   "outputs": [
    {
     "name": "stdout",
     "output_type": "stream",
     "text": [
      "hello\n",
      "Howdy\n",
      " Greetings\n"
     ]
    }
   ],
   "source": [
    "code(1)\n",
    "code(2)\n",
    "code(3)"
   ]
  },
  {
   "cell_type": "code",
   "execution_count": null,
   "id": "9dc8a7bf",
   "metadata": {},
   "outputs": [],
   "source": [
    "9.If your programme is stuck in an endless loop, what keys you’ll press?\n",
    "Answer:To stop the program which stuck in endless loop we use CTRL+C\n",
    "    "
   ]
  },
  {
   "cell_type": "code",
   "execution_count": null,
   "id": "d11b69d8",
   "metadata": {},
   "outputs": [],
   "source": [
    "10. How can you tell the difference between break and continue?\n",
    "\n",
    "Answer:The break statement will get out of the loop and start the further process while, continue statement restart the loop."
   ]
  },
  {
   "cell_type": "code",
   "execution_count": 15,
   "id": "ae38da25",
   "metadata": {},
   "outputs": [
    {
     "name": "stdout",
     "output_type": "stream",
     "text": [
      "m\n",
      "a\n",
      "n\n",
      "g\n",
      "the end\n"
     ]
    }
   ],
   "source": [
    "# example of break sratement\n",
    " \n",
    "for i in \"mangesh\":\n",
    "    if i==\"e\":\n",
    "        break\n",
    "    print(i)\n",
    "    \n",
    "print(\"the end\")"
   ]
  },
  {
   "cell_type": "code",
   "execution_count": 18,
   "id": "f0dcba81",
   "metadata": {},
   "outputs": [
    {
     "name": "stdout",
     "output_type": "stream",
     "text": [
      "m\n",
      "a\n",
      "n\n",
      "g\n",
      "s\n",
      "h\n",
      "the end\n"
     ]
    }
   ],
   "source": [
    "# example of continue statement\n",
    "for i in \"mangesh\":\n",
    "    if i==\"e\":\n",
    "        continue\n",
    "    print(i)\n",
    "   \n",
    "print(\"the end\")"
   ]
  },
  {
   "cell_type": "code",
   "execution_count": null,
   "id": "f9426713",
   "metadata": {},
   "outputs": [],
   "source": [
    "11. In a for loop, what is the difference between range(10), range(0, 10), and range(0, 10, 1)?\n",
    "Answer : the range(10) means it will call range from 0 and ends with 9 excluding 10\n",
    "         the range(0,10) means it tells that the loop will strat from 0 \n",
    "         the range(0,10,1) means the loop wil move forward with the increament of 1 # 0,1,2,3,4,5,6,7,8,9"
   ]
  },
  {
   "cell_type": "code",
   "execution_count": null,
   "id": "064845ab",
   "metadata": {},
   "outputs": [],
   "source": [
    "12. Write a short program that prints the numbers 1 to 10 using a for loop. Then write an equivalent\n",
    "program that prints the numbers 1 to 10 using a while loop."
   ]
  },
  {
   "cell_type": "code",
   "execution_count": 22,
   "id": "bc7fda6c",
   "metadata": {},
   "outputs": [
    {
     "name": "stdout",
     "output_type": "stream",
     "text": [
      "1 2 3 4 5 6 7 8 9 10 \n",
      "\n"
     ]
    }
   ],
   "source": [
    "#for loop\n",
    "\n",
    "for i in range(1,11):\n",
    "    print(i, end= \" \")\n",
    "\n",
    "print(\"\\n\")\n"
   ]
  },
  {
   "cell_type": "code",
   "execution_count": 26,
   "id": "9fd27dc5",
   "metadata": {},
   "outputs": [
    {
     "name": "stdout",
     "output_type": "stream",
     "text": [
      "1 2 3 4 5 6 7 8 9 10 \n",
      "\n"
     ]
    }
   ],
   "source": [
    "i=1\n",
    "while i<=10:\n",
    "    print(i, end= \" \")\n",
    "    i+=1\n",
    "print(\"\\n\")\n",
    "    "
   ]
  },
  {
   "cell_type": "code",
   "execution_count": null,
   "id": "adbe66d4",
   "metadata": {},
   "outputs": [],
   "source": [
    "13. If you had a function named bacon() inside a module named spam, how would you call it after\n",
    "importing spam?\n",
    "\n",
    "Answer:  the function can be called with  spam.becon()"
   ]
  }
 ],
 "metadata": {
  "kernelspec": {
   "display_name": "Python 3 (ipykernel)",
   "language": "python",
   "name": "python3"
  },
  "language_info": {
   "codemirror_mode": {
    "name": "ipython",
    "version": 3
   },
   "file_extension": ".py",
   "mimetype": "text/x-python",
   "name": "python",
   "nbconvert_exporter": "python",
   "pygments_lexer": "ipython3",
   "version": "3.9.7"
  }
 },
 "nbformat": 4,
 "nbformat_minor": 5
}
