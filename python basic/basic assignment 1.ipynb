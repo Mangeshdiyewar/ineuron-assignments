{
 "cells": [
  {
   "cell_type": "markdown",
   "id": "3f36d8ad",
   "metadata": {},
   "source": [
    "1. In the below elements which of them are values or an expression? eg:- values can be integer or string and expressions will be mathematical operators.\n",
    "* \n",
    "'hello'\n",
    "-87.8\n",
    "- \n",
    "/ \n",
    "+\n",
    "6\n",
    "\n",
    "Answer:in the given question 'hellow' is a string , -87.8is a float, 6 is an integer.therefore they are values and (*,-,/,+) are the methamatical operators therefore they are expressions.\n"
   ]
  },
  {
   "cell_type": "markdown",
   "id": "c40bac27",
   "metadata": {},
   "source": [
    "2. What is the difference between string and variable?\n",
    "Answer: string is a data type, it is stored in a space whearas, variable is used to assign a name to that space so that the data can be locate easily. for example let (s) be the variable and \"mangesh\" is a string.\n",
    " s=\"mangesh\" "
   ]
  },
  {
   "cell_type": "markdown",
   "id": "24c828dc",
   "metadata": {},
   "source": [
    "3. Describe three different data types.\n",
    "Answer: following are the various types of data types.\n",
    "1) string it always denoted under \"\" string are the character, alphabet or alphanumeric which is denoted under the double or single inverted commas. for eg: \"mangesh\", \"ma36556\".\n",
    "2) integer in this data type we use integers eg 1,2,454,478 etc.\n",
    "3) bollean it is denoted by True and False. it is generally used for logic or to check the data, here the values of True is 1 and that of False is 0. "
   ]
  },
  {
   "cell_type": "markdown",
   "id": "f951f353",
   "metadata": {},
   "source": [
    "4. What is an expression made up of? What do all expressions do?\n",
    "Answer :expression is made of operands and operator where operand can be a data type such as integer and operator afre the various mathematical or logical operator eg *,/,-, or, and etc.\n",
    "expression is made to find a result.\n",
    "for eg 45+26=71 here in the given expression 45 and 26 are the operands and + is a operator and this expression is derived to get 71 as aoutcome ."
   ]
  },
  {
   "cell_type": "markdown",
   "id": "865dca99",
   "metadata": {},
   "source": [
    "5. This assignment statements, like spam = 10. What is the difference between an expression and a statement?\n",
    "Answer: expression contains operator or operands whereas statement is a command which we give in python eg print(), tuple() etc.\n"
   ]
  },
  {
   "cell_type": "markdown",
   "id": "9543bc08",
   "metadata": {},
   "source": [
    "6.After running the following code, what does the variable bacon contain?\n",
    "bacon = 22\n",
    "bacon + 1\n",
    "Answer: the bacon will become 23\n"
   ]
  },
  {
   "cell_type": "code",
   "execution_count": 10,
   "id": "e228c949",
   "metadata": {},
   "outputs": [
    {
     "data": {
      "text/plain": [
       "23"
      ]
     },
     "execution_count": 10,
     "metadata": {},
     "output_type": "execute_result"
    }
   ],
   "source": [
    "bacon = 22\n",
    "bacon + 1\n"
   ]
  },
  {
   "cell_type": "markdown",
   "id": "ac564c62",
   "metadata": {},
   "source": [
    "7. What should the values of the following two terms be?\n",
    "'spam' + 'spamspam'\n",
    "'spam' * 3\n"
   ]
  },
  {
   "cell_type": "code",
   "execution_count": 11,
   "id": "94a8e4b9",
   "metadata": {},
   "outputs": [
    {
     "data": {
      "text/plain": [
       "'spamspamspam'"
      ]
     },
     "execution_count": 11,
     "metadata": {},
     "output_type": "execute_result"
    }
   ],
   "source": [
    "'spam' + 'spamspam'"
   ]
  },
  {
   "cell_type": "code",
   "execution_count": 12,
   "id": "87a754ff",
   "metadata": {},
   "outputs": [
    {
     "data": {
      "text/plain": [
       "'spamspamspam'"
      ]
     },
     "execution_count": 12,
     "metadata": {},
     "output_type": "execute_result"
    }
   ],
   "source": [
    "'spam' * 3"
   ]
  },
  {
   "cell_type": "markdown",
   "id": "da46b6dc",
   "metadata": {},
   "source": [
    "8.Why is eggs a valid variable name while 100 is invalid?\n",
    "Answer: in python we cant give integer  at start as variable name, but we can give variable as a alfa numeric for eg eggs100 can be a variable ."
   ]
  },
  {
   "cell_type": "markdown",
   "id": "3cee492b",
   "metadata": {},
   "source": [
    "9.What three functions can be used to get the integer, floating-point number, or string version of a value?\n",
    "Answer: int(), float(), str() this are the functions used to get corresponding values."
   ]
  },
  {
   "cell_type": "markdown",
   "id": "a8307e7e",
   "metadata": {},
   "source": [
    "Why does this expression cause an error? How can you fix it?\n",
    "'I have eaten ' + 99 + ' burritos.'\n",
    "Ans: here in the given expression the data type of 99 is integer and in python we can't perform cancation operation of hetrogeneous data types therefore it is giving error we can fic this by converting 99 into string by type casting."
   ]
  },
  {
   "cell_type": "code",
   "execution_count": 13,
   "id": "0f23ee5d",
   "metadata": {},
   "outputs": [
    {
     "data": {
      "text/plain": [
       "'I have eaten 99 burritos.'"
      ]
     },
     "execution_count": 13,
     "metadata": {},
     "output_type": "execute_result"
    }
   ],
   "source": [
    "'I have eaten ' + '99' + ' burritos.'"
   ]
  },
  {
   "cell_type": "code",
   "execution_count": null,
   "id": "587f01bb",
   "metadata": {},
   "outputs": [],
   "source": []
  }
 ],
 "metadata": {
  "kernelspec": {
   "display_name": "Python 3 (ipykernel)",
   "language": "python",
   "name": "python3"
  },
  "language_info": {
   "codemirror_mode": {
    "name": "ipython",
    "version": 3
   },
   "file_extension": ".py",
   "mimetype": "text/x-python",
   "name": "python",
   "nbconvert_exporter": "python",
   "pygments_lexer": "ipython3",
   "version": "3.9.7"
  }
 },
 "nbformat": 4,
 "nbformat_minor": 5
}
