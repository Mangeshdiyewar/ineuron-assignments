{
 "cells": [
  {
   "cell_type": "markdown",
   "id": "37140c7e",
   "metadata": {},
   "source": [
    "1. Why are functions advantageous to have in your programs?\n",
    "Ans. Functions reduces to write the code again and again , they made code easy and short which can be called easily, the made code reusability easy which leads to less eroors in a code, and modyfing the code becomes easier.  "
   ]
  },
  {
   "cell_type": "code",
   "execution_count": null,
   "id": "0b01beb1",
   "metadata": {},
   "outputs": [],
   "source": [
    "2. When does the code in a function run: when it is specified or when it is called?\n",
    "Ans. The code in a function runs when the function is called, not when the function is specified."
   ]
  },
  {
   "cell_type": "markdown",
   "id": "d873e29c",
   "metadata": {},
   "source": [
    "3. What statement creates a function?\n",
    "Ans. The def statement defines the function\n",
    " syntax of function :\n",
    "  def function_name(parameter) :\n",
    "   '''dog string'''\n",
    "   ---- function body----\n",
    "    return value"
   ]
  },
  {
   "cell_type": "code",
   "execution_count": 6,
   "id": "2eeca29a",
   "metadata": {},
   "outputs": [],
   "source": [
    "def example(a):\n",
    "    print(\"this is function exaample \" + a)\n",
    "    \n"
   ]
  },
  {
   "cell_type": "code",
   "execution_count": 7,
   "id": "a925cdf3",
   "metadata": {},
   "outputs": [
    {
     "name": "stdout",
     "output_type": "stream",
     "text": [
      "this is function exaample mangesh\n"
     ]
    }
   ],
   "source": [
    "example(\"mangesh\")"
   ]
  },
  {
   "cell_type": "code",
   "execution_count": null,
   "id": "46b07b3c",
   "metadata": {},
   "outputs": [],
   "source": [
    "4. What is the difference between a function and a function call?\n",
    "Ans. the function is a block of code which takes input as parameters and return the result as per the code. A function call is a code use to pass control to a function\n"
   ]
  },
  {
   "cell_type": "code",
   "execution_count": 9,
   "id": "ff1b3613",
   "metadata": {},
   "outputs": [],
   "source": [
    "#function\n",
    "def add(a,b):\n",
    "        return a+b\n",
    "    \n"
   ]
  },
  {
   "cell_type": "code",
   "execution_count": 10,
   "id": "ba4c2f7b",
   "metadata": {},
   "outputs": [
    {
     "data": {
      "text/plain": [
       "11"
      ]
     },
     "execution_count": 10,
     "metadata": {},
     "output_type": "execute_result"
    }
   ],
   "source": [
    "#function call\n",
    "add(5,6)"
   ]
  },
  {
   "cell_type": "markdown",
   "id": "0eb8f228",
   "metadata": {},
   "source": [
    "5. How many global scopes are there in a Python program? How many local scopes?\n",
    "Ans. There is one global, one local scope is created whenever we call a function. when a variable is created inside a function belongs to the local scope of that function and can only be used inside of that function only, wheras when the variable is defined in the main body of a python code it belongs to the global scope of that function.\n"
   ]
  },
  {
   "cell_type": "code",
   "execution_count": 16,
   "id": "286432a7",
   "metadata": {},
   "outputs": [
    {
     "name": "stdout",
     "output_type": "stream",
     "text": [
      "50\n"
     ]
    },
    {
     "ename": "NameError",
     "evalue": "name 'x' is not defined",
     "output_type": "error",
     "traceback": [
      "\u001b[1;31m---------------------------------------------------------------------------\u001b[0m",
      "\u001b[1;31mNameError\u001b[0m                                 Traceback (most recent call last)",
      "\u001b[1;32m~\\AppData\\Local\\Temp/ipykernel_12100/822280566.py\u001b[0m in \u001b[0;36m<module>\u001b[1;34m\u001b[0m\n\u001b[0;32m      8\u001b[0m \u001b[1;33m\u001b[0m\u001b[0m\n\u001b[0;32m      9\u001b[0m \u001b[0mlocal_scope\u001b[0m\u001b[1;33m(\u001b[0m\u001b[1;33m)\u001b[0m\u001b[1;33m\u001b[0m\u001b[1;33m\u001b[0m\u001b[0m\n\u001b[1;32m---> 10\u001b[1;33m \u001b[0mlocal_scope2\u001b[0m\u001b[1;33m(\u001b[0m\u001b[1;33m)\u001b[0m\u001b[1;33m\u001b[0m\u001b[1;33m\u001b[0m\u001b[0m\n\u001b[0m",
      "\u001b[1;32m~\\AppData\\Local\\Temp/ipykernel_12100/822280566.py\u001b[0m in \u001b[0;36mlocal_scope2\u001b[1;34m()\u001b[0m\n\u001b[0;32m      5\u001b[0m \u001b[1;33m\u001b[0m\u001b[0m\n\u001b[0;32m      6\u001b[0m \u001b[1;32mdef\u001b[0m \u001b[0mlocal_scope2\u001b[0m\u001b[1;33m(\u001b[0m\u001b[1;33m)\u001b[0m\u001b[1;33m:\u001b[0m\u001b[1;33m\u001b[0m\u001b[1;33m\u001b[0m\u001b[0m\n\u001b[1;32m----> 7\u001b[1;33m     \u001b[0mprint\u001b[0m\u001b[1;33m(\u001b[0m\u001b[0mx\u001b[0m\u001b[1;33m)\u001b[0m\u001b[1;33m\u001b[0m\u001b[1;33m\u001b[0m\u001b[0m\n\u001b[0m\u001b[0;32m      8\u001b[0m \u001b[1;33m\u001b[0m\u001b[0m\n\u001b[0;32m      9\u001b[0m \u001b[0mlocal_scope\u001b[0m\u001b[1;33m(\u001b[0m\u001b[1;33m)\u001b[0m\u001b[1;33m\u001b[0m\u001b[1;33m\u001b[0m\u001b[0m\n",
      "\u001b[1;31mNameError\u001b[0m: name 'x' is not defined"
     ]
    }
   ],
   "source": [
    "# example of local scope\n",
    "def local_scope():\n",
    "    x=50\n",
    "    print(x)\n",
    "\n",
    "def local_scope2():\n",
    "    print(x)\n",
    "    \n",
    "local_scope()\n",
    "local_scope2()"
   ]
  },
  {
   "cell_type": "code",
   "execution_count": 18,
   "id": "bef1515d",
   "metadata": {},
   "outputs": [
    {
     "name": "stdout",
     "output_type": "stream",
     "text": [
      "500\n",
      "500\n"
     ]
    }
   ],
   "source": [
    "#example of global sscope\n",
    "\n",
    "x=500\n",
    "\n",
    "def global_scope():\n",
    "    print(x)\n",
    "    \n",
    "def global_scope2():\n",
    "    print(x)\n",
    "    \n",
    "global_scope()\n",
    "global_scope2()"
   ]
  },
  {
   "cell_type": "code",
   "execution_count": null,
   "id": "17f1deb5",
   "metadata": {},
   "outputs": [],
   "source": [
    "6. What happens to variables in a local scope when the function call returns?\n",
    "Ans.when the function call returns the local scope is destroyed , all the  local variables becomes unidentified when the function call completes"
   ]
  },
  {
   "cell_type": "markdown",
   "id": "fa2a2f2b",
   "metadata": {},
   "source": [
    "7. What is the concept of a return value? Is it possible to have a return value in an expression?\n",
    "Ans. The Python return statement is a key component of functions and methods. We can use the return statement to make functions send Python objects back to the caller code. These objects are known as the function’s return value. A return value is the value that a function call evaluates to. Like any value, a return value can be used as part of an expression."
   ]
  },
  {
   "cell_type": "markdown",
   "id": "d770b092",
   "metadata": {},
   "source": [
    "8. If a function does not have a return statement, what is the return value of a call to that function?\n",
    "Ans. If there is no return statement for a function , then  return value is None. The function always return none if explicit return is not written "
   ]
  },
  {
   "cell_type": "code",
   "execution_count": null,
   "id": "8ba5aee4",
   "metadata": {},
   "outputs": [],
   "source": [
    "9. How do you make a function variable refer to the global variable?\n",
    "Ans. A global statement will force a variable in a function to refer to the global variable. if you want to refer to a global variable then use global as a keyword to declare which variable is global."
   ]
  },
  {
   "cell_type": "markdown",
   "id": "f31f634d",
   "metadata": {},
   "source": [
    "10.What is the data type of None?\n",
    "Ans. The datatype of None is NoneType\n"
   ]
  },
  {
   "cell_type": "code",
   "execution_count": 19,
   "id": "b4810270",
   "metadata": {},
   "outputs": [
    {
     "data": {
      "text/plain": [
       "NoneType"
      ]
     },
     "execution_count": 19,
     "metadata": {},
     "output_type": "execute_result"
    }
   ],
   "source": [
    "type(None)"
   ]
  },
  {
   "cell_type": "markdown",
   "id": "b848f215",
   "metadata": {},
   "source": [
    "11. What does the sentence import areallyourpetsnamederic do?\n",
    "Ans. it imports the module named areallyourpetsnamederic"
   ]
  },
  {
   "cell_type": "markdown",
   "id": "9424e26e",
   "metadata": {},
   "source": [
    "12. If you had a bacon() feature in a spam module, what would you call it after importing spam?\n",
    "Ans. The function can be called with spam.becon()"
   ]
  },
  {
   "cell_type": "code",
   "execution_count": null,
   "id": "bb76e585",
   "metadata": {},
   "outputs": [],
   "source": [
    "13. What can you do to save a programme from crashing if it encounters an error?\n",
    "Ans. we can write a code which might create error in a try block and except block to handle the error."
   ]
  },
  {
   "cell_type": "code",
   "execution_count": 21,
   "id": "4782dc44",
   "metadata": {},
   "outputs": [
    {
     "name": "stdout",
     "output_type": "stream",
     "text": [
      "500\n"
     ]
    }
   ],
   "source": [
    "try:\n",
    "    print(x)\n",
    "except:\n",
    "    print(\"this is an error\")"
   ]
  },
  {
   "cell_type": "markdown",
   "id": "d90132cd",
   "metadata": {},
   "source": [
    "14. What is the purpose of the try clause? What is the purpose of the except clause?\n",
    "Ans. when an code which might create error will go to try block if it has create a error then it will go to except block. "
   ]
  },
  {
   "cell_type": "code",
   "execution_count": 32,
   "id": "18f86a23",
   "metadata": {},
   "outputs": [],
   "source": [
    "x=800\n",
    "try:\n",
    "    if x>1000:\n",
    "        print(x)\n",
    "        \n",
    "except :\n",
    "    print(\"something wrong\")\n",
    "    "
   ]
  },
  {
   "cell_type": "code",
   "execution_count": null,
   "id": "2f41dff6",
   "metadata": {},
   "outputs": [],
   "source": []
  }
 ],
 "metadata": {
  "kernelspec": {
   "display_name": "Python 3 (ipykernel)",
   "language": "python",
   "name": "python3"
  },
  "language_info": {
   "codemirror_mode": {
    "name": "ipython",
    "version": 3
   },
   "file_extension": ".py",
   "mimetype": "text/x-python",
   "name": "python",
   "nbconvert_exporter": "python",
   "pygments_lexer": "ipython3",
   "version": "3.9.7"
  }
 },
 "nbformat": 4,
 "nbformat_minor": 5
}
